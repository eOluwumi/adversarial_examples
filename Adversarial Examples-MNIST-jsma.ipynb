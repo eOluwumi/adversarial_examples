{
 "cells": [
  {
   "cell_type": "code",
   "execution_count": 1,
   "metadata": {
    "scrolled": false
   },
   "outputs": [
    {
     "name": "stderr",
     "output_type": "stream",
     "text": [
      "/usr/local/lib/python2.7/dist-packages/h5py/__init__.py:36: FutureWarning: Conversion of the second argument of issubdtype from `float` to `np.floating` is deprecated. In future, it will be treated as `np.float64 == np.dtype(float).type`.\n",
      "  from ._conv import register_converters as _register_converters\n"
     ]
    }
   ],
   "source": [
    "import os\n",
    "import time\n",
    "import sys\n",
    "import tensorflow as tf\n",
    "from tensorflow.examples.tutorials.mnist import input_data\n",
    "import numpy as np"
   ]
  },
  {
   "cell_type": "markdown",
   "metadata": {},
   "source": [
    "### Generate model that returns the prediction\n",
    "\n",
    "Note that while training the model, I have only trained it on the dataset provided without applying any data augmentation techniques. Training accuracy obtained was ~63%"
   ]
  },
  {
   "cell_type": "code",
   "execution_count": 2,
   "metadata": {},
   "outputs": [],
   "source": [
    "# helper method to define model\n",
    "def deepnn(x):\n",
    "    x_image = tf.reshape(x, [-1, 28, 28, 1])\n",
    "    \n",
    "    # Conv Layer 1\n",
    "    W_conv1 = tf.get_variable(\"weight_1\", shape=[5, 5, 1, 6], initializer=tf.truncated_normal_initializer(stddev=0.1))\n",
    "    b_conv1 = tf.get_variable(\"bias_1\", shape=[6], initializer=tf.constant_initializer(0.1))\n",
    "    h_conv1 = tf.nn.relu(conv2d(x_image, W_conv1) + b_conv1)\n",
    "\n",
    "    # Max Pooling Layer 1\n",
    "    h_pool1 = max_pool_2x2(h_conv1)\n",
    "\n",
    "    # Conv Layer 2\n",
    "    W_conv2 = tf.get_variable(\"weight_2\", shape=[5, 5, 6, 16], initializer=tf.truncated_normal_initializer(stddev=0.1))\n",
    "    b_conv2 = tf.get_variable(\"bias_2\", shape=[16], initializer=tf.constant_initializer(0.1))\n",
    "    h_conv2 = tf.nn.relu(conv2d(h_pool1, W_conv2) + b_conv2)\n",
    "\n",
    "    # Max Pooling Layer 2\n",
    "    h_pool2 = max_pool_2x2(h_conv2)\n",
    "\n",
    "    h_pool_flatten = tf.reshape(h_pool2, (-1, 7*7*16))\n",
    "\n",
    "    # Fully Connected \n",
    "    W_fc1 = tf.get_variable(\"weight_3\", shape=[7*7*16, 120], initializer=tf.truncated_normal_initializer(stddev=0.1))\n",
    "    b_fc1 = tf.get_variable(\"bias_3\", shape=[120], initializer=tf.constant_initializer(0.1))\n",
    "    h_fc1 = tf.matmul(h_pool_flatten, W_fc1) + b_fc1\n",
    "    \n",
    "    # Fully connected 2\n",
    "    W_fc2 = tf.get_variable(\"weight_4\", shape=[120, 10], initializer=tf.truncated_normal_initializer(stddev=0.1))\n",
    "    b_fc2 = tf.get_variable(\"bias_4\", shape=[10],initializer=tf.constant_initializer(0.1))\n",
    "    y_conv = tf.matmul(h_fc1, W_fc2) + b_fc2\n",
    "    \n",
    "    return y_conv\n",
    "\n",
    "# Helper functions\n",
    "def conv2d(x, W):\n",
    "    return tf.nn.conv2d(x, W, strides=[1, 1, 1, 1], padding='SAME')\n",
    "\n",
    "\n",
    "def max_pool_2x2(x):\n",
    "    return tf.nn.max_pool(x, ksize=[1, 2, 2, 1], strides=[1, 2, 2, 1], padding='SAME')\n",
    "\n",
    "\n",
    "def weight_variable(shape, i):\n",
    "    return tf.get_variable(\"weight\", shape=shape, initializer=tf.truncated_normal_initializer(stddev=0.1))\n",
    "\n",
    "\n",
    "def bias_variable(shape, i):\n",
    "    return tf.get_variable(\"bias\", shape=shape, initializer=tf.constant_initializer(0.1))"
   ]
  },
  {
   "cell_type": "code",
   "execution_count": 3,
   "metadata": {},
   "outputs": [],
   "source": [
    "# create Dummy class \n",
    "class Dummy():\n",
    "    pass\n",
    "\n",
    "env = Dummy()"
   ]
  },
  {
   "cell_type": "code",
   "execution_count": 4,
   "metadata": {},
   "outputs": [],
   "source": [
    "def jsma(model, x, y=None, epochs=1, eps=1.0, k=1, clip_min=0.0, clip_max=1.0, score_fn=lambda t, o: t * tf.abs(o)):\n",
    "#     Generate the adversarial image according to the JSMA method\n",
    "    n = tf.shape(x)[0]\n",
    "    \n",
    "    # Generate the target which helps in extracting the tensor slice (used for calculating the tensor)\n",
    "    target = tf.cond(tf.equal(0, tf.rank(y)), \n",
    "                    lambda: tf.zeros([n], dtype=tf.int32) + y,\n",
    "                    lambda: y)\n",
    "    target = tf.stack((tf.range(n), target), axis=1)\n",
    "    \n",
    "    if isinstance(epochs, float):\n",
    "        tmp = tf.to_float(tf.size(x[0])) * epochs\n",
    "        epochs = tf.to_int32(tf.floor(tmp))\n",
    "        \n",
    "#     2 pixels at a time vs one pixel at a time\n",
    "    if 2 == k:\n",
    "        _jsma_fn = _jsma2_impl\n",
    "    else:\n",
    "        _jsma_fn = _jsma_impl\n",
    "        \n",
    "    return _jsma_fn(model, x, target, epochs=epochs, eps=eps, clip_min=clip_min, clip_max=clip_max, score_fn=score_fn)\n",
    "    "
   ]
  },
  {
   "cell_type": "code",
   "execution_count": 5,
   "metadata": {},
   "outputs": [],
   "source": [
    "# Utility function\n",
    "\n",
    "def _prod(iterable):\n",
    "    ret = 1\n",
    "    for x in iterable:\n",
    "        ret *= x\n",
    "    return ret"
   ]
  },
  {
   "cell_type": "code",
   "execution_count": 6,
   "metadata": {},
   "outputs": [],
   "source": [
    "def _jsma_impl(model, x, yind, epochs, eps, clip_min, clip_max, score_fn):\n",
    "    \n",
    "#   Implementation of the JSMA method (Update one pixel at a time)\n",
    "    def _cond(i, xadv):\n",
    "        return tf.less(i, epochs)\n",
    "    \n",
    "    def _body(i, xadv):\n",
    "        ybar = model(xadv)\n",
    "        \n",
    "#       calculate gradients of the last layer(non-softmax layer)\n",
    "        dy_dx = tf.gradients(ybar, xadv)[0]\n",
    "        \n",
    "#       calculate gradients of the target class\n",
    "        yt = tf.gather_nd(ybar, yind)\n",
    "        dt_dx = tf.gradients(yt, xadv)[0]\n",
    "        \n",
    "#       calculate gradients of the other classes\n",
    "        do_dx = dy_dx - dt_dx\n",
    "        \n",
    "#       check the constraints as mentioned in the paper\n",
    "        c0 = tf.logical_or(eps<0, xadv < clip_max)\n",
    "        c1 = tf.logical_or(eps>0, xadv > clip_min)\n",
    "        cond = tf.reduce_all([dt_dx>=0, do_dx<=0, c0, c1], axis=0)\n",
    "        cond = tf.to_float(cond)\n",
    "        \n",
    "#       calculate score\n",
    "        score = cond * score_fn(dt_dx, do_dx)\n",
    "        \n",
    "#       reshaping the calculated score\n",
    "        shape = score.get_shape().as_list()\n",
    "        dim = _prod(shape[1:])\n",
    "        score = tf.reshape(score, [-1, dim])\n",
    "        \n",
    "#       find the index with largest score, then generate dx with value as eps(noise) at the index and 0 elsewhere\n",
    "        ind = tf.argmax(score, axis=1)\n",
    "        dx = tf.one_hot(ind, dim, on_value=eps, off_value=0.)\n",
    "        dx = tf.reshape(dx, [-1] + shape[1:])\n",
    "        \n",
    "#       add the calculated gradient and then perform clipping operation\n",
    "        xadv = tf.stop_gradient(xadv + dx)\n",
    "        xadv = tf.clip_by_value(xadv, clip_min, clip_max)\n",
    "        \n",
    "        return i+1, xadv\n",
    "    \n",
    "    _, xadv = tf.while_loop(_cond, _body, (0, tf.identity(x)), back_prop=False, name='_jsma_batch')\n",
    "    \n",
    "    return xadv"
   ]
  },
  {
   "cell_type": "code",
   "execution_count": 7,
   "metadata": {},
   "outputs": [],
   "source": [
    "def _jsma2_impl(model, x, yind, epochs, eps, clip_min, clip_max, score_fn):\n",
    "    \n",
    "    def _cond(k, xadv):\n",
    "        return tf.less(k, epochs)\n",
    "    \n",
    "    def _body(k, xadv):\n",
    "        ybar = model(xadv)\n",
    "        \n",
    "        dy_dx = tf.gradients(ybar, xadv)[0]\n",
    "        \n",
    "        yt = tf.gather_nd(ybar, yind)\n",
    "        dt_dx = tf.gradients(yt, xadv)[0]\n",
    "        \n",
    "        do_dx = dy_dx - dt_dx\n",
    "        \n",
    "        c0 = tf.logical_or(eps < 0, xadv < clip_max)\n",
    "        c1 = tf.logical_or(eps > 0, xadv > clip_min)\n",
    "        cond = tf.reduce_all([dt_dx >=0, do_dx <=0, c0, c1], axis=0)\n",
    "        cond = tf.to_float(cond)\n",
    "        \n",
    "        score = cond * score_fn(dt_dx, do_dx)\n",
    "        \n",
    "        shape = score.get_shape().as_list()\n",
    "        dim = _prod(shape[1:])\n",
    "        score = tf.reshape(score, [-1, dim])\n",
    "        \n",
    "        a = tf.expand_dims(score, axis=1)\n",
    "        b = tf.expand_dims(score, axis=2)\n",
    "        score2 = tf.reshape(a+b, [-1, dim*dim])\n",
    "        ij = tf.argmax(score2, axis=1)\n",
    "        \n",
    "        i = tf.to_int32(ij / dim)\n",
    "        j = tf.to_int32(ij) % dim;\n",
    "        \n",
    "        dxi = tf.one_hot(i, dim, on_value=eps, off_value=0)\n",
    "        dyi = tf.one_hot(j, dim, on_value=eps, off_value=0)\n",
    "        dx = tf.reshape(dxi+dyi, [-1] + shape[1:])\n",
    "        \n",
    "        xadv = tf.stop_gradient(xadv + dx)\n",
    "        xadv = tf.clip_by_value(xadv, clip_min, clip_max)\n",
    "        \n",
    "        return k+1, xadv\n",
    "    \n",
    "    _, xadv = tf.while_loop(_cond, _body, (0, tf.identity(x)), back_prop=False, name='_jsma2_batch')\n",
    "    \n",
    "    return xadv"
   ]
  },
  {
   "cell_type": "code",
   "execution_count": 8,
   "metadata": {},
   "outputs": [
    {
     "name": "stdout",
     "output_type": "stream",
     "text": [
      "WARNING:tensorflow:From <ipython-input-8-0220ab83cfb6>:15: softmax_cross_entropy_with_logits (from tensorflow.python.ops.nn_ops) is deprecated and will be removed in a future version.\n",
      "Instructions for updating:\n",
      "\n",
      "Future major versions of TensorFlow will allow gradients to flow\n",
      "into the labels input on backprop by default.\n",
      "\n",
      "See tf.nn.softmax_cross_entropy_with_logits_v2.\n",
      "\n"
     ]
    }
   ],
   "source": [
    "# defining environment in which the model is set\n",
    "\n",
    "with tf.variable_scope('model'):\n",
    "    env.x = tf.placeholder(tf.float32, (None, 28, 28, 1),\n",
    "                           name='x')\n",
    "    env.y = tf.placeholder(tf.float32, (None, 10), name='y')\n",
    "    env.ybar = deepnn(env.x)\n",
    "\n",
    "    with tf.variable_scope('acc'):\n",
    "        count = tf.equal(tf.argmax(env.y, axis=1), tf.argmax(env.ybar, axis=1))\n",
    "        env.acc = tf.reduce_mean(tf.cast(count, tf.float32), name='acc')\n",
    "\n",
    "    with tf.variable_scope('loss'):\n",
    "        xent = tf.nn.softmax_cross_entropy_with_logits(labels=env.y,\n",
    "                                                       logits=env.ybar)\n",
    "        env.loss = tf.reduce_mean(xent, name='loss')\n",
    "\n",
    "    optimizer = tf.train.AdamOptimizer()\n",
    "    env.train_op = optimizer.minimize(env.loss)\n",
    "\n",
    "    env.saver = tf.train.Saver(tf.global_variables()[:8])\n",
    "\n",
    "with tf.variable_scope('model', reuse=True):\n",
    "    env.adv_eps = tf.placeholder(tf.float32, (), name='adv_eps')\n",
    "    env.adv_epochs = tf.placeholder(tf.int32, (), name='adv_epochs')\n",
    "    env.adv_y = tf.placeholder(tf.int32, (), name='adv_y')\n",
    "    env.x_jsma = jsma(deepnn, env.x, y=env.adv_y, epochs=env.adv_epochs,\n",
    "                      eps=env.adv_eps)"
   ]
  },
  {
   "cell_type": "code",
   "execution_count": 9,
   "metadata": {},
   "outputs": [],
   "source": [
    "sess = tf.InteractiveSession()"
   ]
  },
  {
   "cell_type": "code",
   "execution_count": 10,
   "metadata": {},
   "outputs": [
    {
     "name": "stdout",
     "output_type": "stream",
     "text": [
      "INFO:tensorflow:Restoring parameters from ./mnist_model/model_chkpt-9990\n"
     ]
    }
   ],
   "source": [
    "# Load trained model\n",
    "\n",
    "env.saver.restore(sess, './mnist_model/model_chkpt-9990')"
   ]
  },
  {
   "cell_type": "code",
   "execution_count": 41,
   "metadata": {},
   "outputs": [],
   "source": [
    "def make_jsma(sess, env, X_data, target_class, epochs=1, eps=0.1, batch_size=128):\n",
    "    \"\"\"\n",
    "    Generate JSMA by running env.x_jsma.\n",
    "    \"\"\"\n",
    "    print('\\nMaking adversarials via JSMA')\n",
    "\n",
    "    X_adv = np.empty_like(X_data)\n",
    "\n",
    "    adv = sess.run(env.x_jsma, feed_dict={\n",
    "        env.x: X_data,\n",
    "        env.adv_y: target_class,\n",
    "        env.adv_eps: eps,\n",
    "        env.adv_epochs: epochs})\n",
    "    X_adv[0] = adv\n",
    "    print('Done')\n",
    "\n",
    "    return X_adv"
   ]
  },
  {
   "cell_type": "code",
   "execution_count": 12,
   "metadata": {},
   "outputs": [],
   "source": [
    "def predict(sess, env, X_data, batch_size=128):\n",
    "    \"\"\"\n",
    "    Do inference by running env.ybar.\n",
    "    \"\"\"\n",
    "    print('\\nPredicting')\n",
    "    n_classes = env.ybar.get_shape().as_list()[1]\n",
    "\n",
    "    y_batch = sess.run(env.ybar, feed_dict={env.x: X_data})\n",
    "    yval = y_batch\n",
    "    print()\n",
    "    return yval"
   ]
  },
  {
   "cell_type": "markdown",
   "metadata": {},
   "source": [
    "##### The following three cells are an alternate way to load the data "
   ]
  },
  {
   "cell_type": "code",
   "execution_count": 13,
   "metadata": {},
   "outputs": [],
   "source": [
    "# filename = './cifar/tfrecords/eval.tfrecords/'\n",
    "# record_iterator = tf.python_io.tf_record_iterator(filename)\n",
    "# serialized_img_example = next(record_iterator)"
   ]
  },
  {
   "cell_type": "code",
   "execution_count": 14,
   "metadata": {},
   "outputs": [],
   "source": [
    "# serialized_img_example = next(record_iterator)"
   ]
  },
  {
   "cell_type": "code",
   "execution_count": 15,
   "metadata": {},
   "outputs": [],
   "source": [
    "# example = tf.train.Example()\n",
    "# example.ParseFromString(serialized_img_example)\n",
    "# image = example.features.feature['image'].bytes_list.value\n",
    "# label = example.features.feature['label'].int64_list.value[0]"
   ]
  },
  {
   "cell_type": "markdown",
   "metadata": {},
   "source": [
    "### Loading data from pickle file directly"
   ]
  },
  {
   "cell_type": "code",
   "execution_count": 16,
   "metadata": {},
   "outputs": [
    {
     "name": "stdout",
     "output_type": "stream",
     "text": [
      "Extracting MNIST_data/train-images-idx3-ubyte.gz\n",
      "Extracting MNIST_data/train-labels-idx1-ubyte.gz\n",
      "Extracting MNIST_data/t10k-images-idx3-ubyte.gz\n",
      "Extracting MNIST_data/t10k-labels-idx1-ubyte.gz\n"
     ]
    }
   ],
   "source": [
    "mnist = input_data.read_data_sets('MNIST_data', one_hot=True)"
   ]
  },
  {
   "cell_type": "code",
   "execution_count": 90,
   "metadata": {},
   "outputs": [],
   "source": [
    "test_x = mnist.test.images.reshape(-1, 784)[2]\n",
    "test_y = mnist.test.labels.reshape(-1, 10)[2]\n",
    "\n",
    "new_img = test_x.reshape((28, 28, 1))"
   ]
  },
  {
   "cell_type": "code",
   "execution_count": 91,
   "metadata": {},
   "outputs": [],
   "source": [
    "import matplotlib.pyplot as plt"
   ]
  },
  {
   "cell_type": "code",
   "execution_count": 92,
   "metadata": {},
   "outputs": [
    {
     "data": {
      "text/plain": [
       "<matplotlib.colorbar.Colorbar at 0x7f4ad8b2a5d0>"
      ]
     },
     "execution_count": 92,
     "metadata": {},
     "output_type": "execute_result"
    },
    {
     "data": {
      "image/png": "[encoded data removed]",
      "text/plain": [
       "<matplotlib.figure.Figure at 0x7f4ad8d085d0>"
      ]
     },
     "metadata": {},
     "output_type": "display_data"
    }
   ],
   "source": [
    "# plt.imshow(new_img.reshape((28, 28)))\n",
    "# plt.savefig('./cifar_adv/cw/actual_1.png')\n",
    "\n",
    "fig, ax = plt.subplots()\n",
    "\n",
    "im = ax.imshow(new_img.reshape((28, 28)), cmap='jet')\n",
    "\n",
    "fig.colorbar(im, ax=ax)\n",
    "\n",
    "# plt.savefig('./mnist_adv/7/original.png')"
   ]
  },
  {
   "cell_type": "code",
   "execution_count": 93,
   "metadata": {},
   "outputs": [
    {
     "data": {
      "text/plain": [
       "array([0., 1., 0., 0., 0., 0., 0., 0., 0., 0.])"
      ]
     },
     "execution_count": 93,
     "metadata": {},
     "output_type": "execute_result"
    }
   ],
   "source": [
    "test_y"
   ]
  },
  {
   "cell_type": "code",
   "execution_count": 94,
   "metadata": {},
   "outputs": [],
   "source": [
    "# Adding an extra dimension\n",
    "\n",
    "img = np.expand_dims(new_img, axis=0)"
   ]
  },
  {
   "cell_type": "code",
   "execution_count": 95,
   "metadata": {},
   "outputs": [
    {
     "data": {
      "text/plain": [
       "(1, 28, 28, 1)"
      ]
     },
     "execution_count": 95,
     "metadata": {},
     "output_type": "execute_result"
    }
   ],
   "source": [
    "img.shape"
   ]
  },
  {
   "cell_type": "code",
   "execution_count": 96,
   "metadata": {},
   "outputs": [
    {
     "name": "stdout",
     "output_type": "stream",
     "text": [
      "\n",
      "Predicting\n",
      "()\n"
     ]
    }
   ],
   "source": [
    "# Predicting output on original image\n",
    "\n",
    "op = predict(sess, env, img)"
   ]
  },
  {
   "cell_type": "code",
   "execution_count": 97,
   "metadata": {},
   "outputs": [
    {
     "name": "stdout",
     "output_type": "stream",
     "text": [
      "[[-1.2842351  10.42824     1.4004627  -1.5610291   3.0630944  -2.1460145\n",
      "   0.24728364  3.3212185   0.09893385 -1.5966411 ]]\n"
     ]
    },
    {
     "data": {
      "text/plain": [
       "array([1])"
      ]
     },
     "execution_count": 97,
     "metadata": {},
     "output_type": "execute_result"
    }
   ],
   "source": [
    "print(op)\n",
    "np.argmax(op, axis=1)"
   ]
  },
  {
   "cell_type": "code",
   "execution_count": 115,
   "metadata": {},
   "outputs": [
    {
     "name": "stdout",
     "output_type": "stream",
     "text": [
      "\n",
      "Making adversarials via JSMA\n",
      "Done\n"
     ]
    }
   ],
   "source": [
    "X_adv = make_jsma(sess, env, img, 0, epochs=245)"
   ]
  },
  {
   "cell_type": "code",
   "execution_count": 116,
   "metadata": {},
   "outputs": [
    {
     "name": "stdout",
     "output_type": "stream",
     "text": [
      "\n",
      "Predicting\n",
      "()\n"
     ]
    }
   ],
   "source": [
    "\n",
    "adv_op = predict(sess, env, X_adv)"
   ]
  },
  {
   "cell_type": "code",
   "execution_count": 117,
   "metadata": {},
   "outputs": [
    {
     "name": "stdout",
     "output_type": "stream",
     "text": [
      "[[ 5.1507454   5.099406    1.3792961  -7.630306    2.651152   -7.3476415\n",
      "   2.1047158   2.7197003   0.62451315 -3.7288878 ]]\n"
     ]
    },
    {
     "data": {
      "text/plain": [
       "0"
      ]
     },
     "execution_count": 117,
     "metadata": {},
     "output_type": "execute_result"
    }
   ],
   "source": [
    "print(adv_op)\n",
    "np.argmax(adv_op)"
   ]
  },
  {
   "cell_type": "code",
   "execution_count": 119,
   "metadata": {},
   "outputs": [
    {
     "data": {
      "image/png": "[encoded data removed]",
      "text/plain": [
       "<matplotlib.figure.Figure at 0x7f4ad905c250>"
      ]
     },
     "metadata": {},
     "output_type": "display_data"
    }
   ],
   "source": [
    "# plt.imshow(xadv.reshape(28, 28))\n",
    "# plt.savefig('./cifar_adv/cw/actual_1_adv_3.png')\n",
    "\n",
    "fig, ax = plt.subplots()\n",
    "\n",
    "im = ax.imshow(X_adv.reshape((28, 28)), cmap='jet')\n",
    "\n",
    "fig.colorbar(im, ax=ax)\n",
    "\n",
    "plt.savefig('./mnist_adv/1/jsma-0.png')"
   ]
  },
  {
   "cell_type": "code",
   "execution_count": 120,
   "metadata": {},
   "outputs": [],
   "source": [
    "diff_img = X_adv - img"
   ]
  },
  {
   "cell_type": "code",
   "execution_count": 121,
   "metadata": {},
   "outputs": [
    {
     "data": {
      "text/plain": [
       "<matplotlib.image.AxesImage at 0x7f4ad8897390>"
      ]
     },
     "execution_count": 121,
     "metadata": {},
     "output_type": "execute_result"
    },
    {
     "data": {
      "image/png": "[encoded data removed]",
      "text/plain": [
       "<matplotlib.figure.Figure at 0x7f4ad90c8410>"
      ]
     },
     "metadata": {},
     "output_type": "display_data"
    }
   ],
   "source": [
    "plt.imshow(diff_img.reshape(28, 28))\n",
    "# plt.savefig('./cifar_adv/cw/diff_1_3.png')"
   ]
  }
 ],
 "metadata": {
  "kernelspec": {
   "display_name": "Python 2",
   "language": "python",
   "name": "python2"
  },
  "language_info": {
   "codemirror_mode": {
    "name": "ipython",
    "version": 2
   },
   "file_extension": ".py",
   "mimetype": "text/x-python",
   "name": "python",
   "nbconvert_exporter": "python",
   "pygments_lexer": "ipython2",
   "version": "2.7.12"
  }
 },
 "nbformat": 4,
 "nbformat_minor": 2
}
