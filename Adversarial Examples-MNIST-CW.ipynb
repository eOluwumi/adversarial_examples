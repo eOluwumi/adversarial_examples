{
 "cells": [
  {
   "cell_type": "code",
   "execution_count": 1,
   "metadata": {
    "scrolled": true
   },
   "outputs": [
    {
     "name": "stderr",
     "output_type": "stream",
     "text": [
      "/usr/local/lib/python2.7/dist-packages/h5py/__init__.py:36: FutureWarning: Conversion of the second argument of issubdtype from `float` to `np.floating` is deprecated. In future, it will be treated as `np.float64 == np.dtype(float).type`.\n",
      "  from ._conv import register_converters as _register_converters\n"
     ]
    }
   ],
   "source": [
    "import os\n",
    "import time\n",
    "import sys\n",
    "import tensorflow as tf\n",
    "from tensorflow.examples.tutorials.mnist import input_data\n",
    "import numpy as np"
   ]
  },
  {
   "cell_type": "markdown",
   "metadata": {},
   "source": [
    "### Generate model that returns the prediction\n",
    "\n",
    "Note that while training the model, I have only trained it on the dataset provided without applying any data augmentation techniques. Training accuracy obtained was ~63%"
   ]
  },
  {
   "cell_type": "code",
   "execution_count": 2,
   "metadata": {},
   "outputs": [],
   "source": [
    "# helper method to define model\n",
    "def deepnn(x):\n",
    "    x_image = tf.reshape(x, [-1, 28, 28, 1])\n",
    "    \n",
    "    # Conv Layer 1\n",
    "    W_conv1 = tf.get_variable(\"weight_1\", shape=[5, 5, 1, 6], initializer=tf.truncated_normal_initializer(stddev=0.1))\n",
    "    b_conv1 = tf.get_variable(\"bias_1\", shape=[6], initializer=tf.constant_initializer(0.1))\n",
    "    h_conv1 = tf.nn.relu(conv2d(x_image, W_conv1) + b_conv1)\n",
    "\n",
    "    # Max Pooling Layer 1\n",
    "    h_pool1 = max_pool_2x2(h_conv1)\n",
    "\n",
    "    # Conv Layer 2\n",
    "    W_conv2 = tf.get_variable(\"weight_2\", shape=[5, 5, 6, 16], initializer=tf.truncated_normal_initializer(stddev=0.1))\n",
    "    b_conv2 = tf.get_variable(\"bias_2\", shape=[16], initializer=tf.constant_initializer(0.1))\n",
    "    h_conv2 = tf.nn.relu(conv2d(h_pool1, W_conv2) + b_conv2)\n",
    "\n",
    "    # Max Pooling Layer 2\n",
    "    h_pool2 = max_pool_2x2(h_conv2)\n",
    "\n",
    "    h_pool_flatten = tf.reshape(h_pool2, (-1, 7*7*16))\n",
    "\n",
    "    # Fully Connected 1\n",
    "    W_fc1 = tf.get_variable(\"weight_3\", shape=[7*7*16, 120], initializer=tf.truncated_normal_initializer(stddev=0.1))\n",
    "    b_fc1 = tf.get_variable(\"bias_3\", shape=[120], initializer=tf.constant_initializer(0.1))\n",
    "    h_fc1 = tf.matmul(h_pool_flatten, W_fc1) + b_fc1\n",
    "    \n",
    "    # Fully connected 2\n",
    "    W_fc2 = tf.get_variable(\"weight_4\", shape=[120, 10], initializer=tf.truncated_normal_initializer(stddev=0.1))\n",
    "    b_fc2 = tf.get_variable(\"bias_4\", shape=[10],initializer=tf.constant_initializer(0.1))\n",
    "    logits = tf.matmul(h_fc1, W_fc2) + b_fc2\n",
    "    \n",
    "    y_conv = tf.nn.softmax(logits, name='y_conv')\n",
    "    \n",
    "    return y_conv, logits\n",
    "\n",
    "# Helper functions\n",
    "def conv2d(x, W):\n",
    "    return tf.nn.conv2d(x, W, strides=[1, 1, 1, 1], padding='SAME')\n",
    "\n",
    "\n",
    "def max_pool_2x2(x):\n",
    "    return tf.nn.max_pool(x, ksize=[1, 2, 2, 1], strides=[1, 2, 2, 1], padding='SAME')\n",
    "\n",
    "\n",
    "def weight_variable(shape, i):\n",
    "    return tf.get_variable(\"weight\", shape=shape, initializer=tf.truncated_normal_initializer(stddev=0.1))\n",
    "\n",
    "\n",
    "def bias_variable(shape, i):\n",
    "    return tf.get_variable(\"bias\", shape=shape, initializer=tf.constant_initializer(0.1))"
   ]
  },
  {
   "cell_type": "code",
   "execution_count": 3,
   "metadata": {},
   "outputs": [],
   "source": [
    "# create Dummy class \n",
    "class Dummy():\n",
    "    pass\n",
    "\n",
    "env = Dummy()"
   ]
  },
  {
   "cell_type": "code",
   "execution_count": 4,
   "metadata": {},
   "outputs": [],
   "source": [
    "def cw(model, x, y=None, eps=1.0, ord_=2, T=2, optimizer=tf.train.AdamOptimizer(learning_rate=0.1), alpha=0.9, min_prob=0, clip=[0.0, 1.0]):\n",
    "    \n",
    "    xshape = x.get_shape().as_list()\n",
    "    noise = tf.get_variable('noise', xshape, tf.float32, initializer=tf.initializers.zeros)\n",
    "    \n",
    "    clip[0] = 0.0\n",
    "    clip[1] = 1.0\n",
    "    \n",
    "    x_scaled = (x - clip[0]) / (clip[1] - clip[0])\n",
    "    \n",
    "    z = tf.clip_by_value(x_scaled, 1e-8, 1 - 1e-8)\n",
    "    xinv = tf.log(z / (1-z)) / T;\n",
    "    \n",
    "    xadv = tf.sigmoid(T * (xinv + noise))\n",
    "    xadv = xadv * (clip[1] - clip[0]) + clip[0]\n",
    "    \n",
    "    ybar, logits = model(xadv)\n",
    "    ydim = ybar.get_shape().as_list()[1]\n",
    "    \n",
    "    if y is not None:\n",
    "        y = tf.cond(tf.equal(tf.rank(y), 0), \n",
    "                   lambda: tf.fill([xshape[0]], y),\n",
    "                   lambda: tf.identity(y))\n",
    "    else:\n",
    "        y = tf.argmin(ybar, axis=1, output_type=tf.int32)\n",
    "        \n",
    "    mask = tf.one_hot(y, ydim, on_value=0.0, off_value=float('inf'))\n",
    "    yt = tf.reduce_max(logits-mask, axis=1)\n",
    "    yo = tf.reduce_max(logits, axis=1)\n",
    "    \n",
    "    loss0 = tf.nn.relu(yo - yt + min_prob)\n",
    "    \n",
    "    axis = list(range(1, len(xshape)))\n",
    "    ord_ = float(ord_)\n",
    "    \n",
    "    tau0 = tf.fill([xshape[0]] + [1]*len(axis), clip[1])\n",
    "    tau = tf.get_variable('cw8-noise-upperbound', dtype=tf.float32, initializer=tau0, trainable=False)\n",
    "    if 2 == ord_:\n",
    "        loss1 = tf.reduce_sum(tf.square(xadv-x), axis=axis)\n",
    "    else:\n",
    "        tau0 = tf.fill([xshape[0]] + [1]*len(axis), clip[1])\n",
    "        tau = tf.get_variable('cw8-noise-upperbound', dtype=tf.float32, initializer=tau0, trainable=False)\n",
    "        \n",
    "        diff = xadv - x - tau\n",
    "        \n",
    "        tau = alpha * tf.to_float(tf.reduce_all(diff < 0, axis=axis))\n",
    "        loss1 = tf.nn.relu(tf.reduce_sum(diff, axis=axis))\n",
    "        \n",
    "    loss = eps * loss0 + loss1\n",
    "    train_op = optimizer.minimize(loss, var_list=[noise])\n",
    "    \n",
    "    if 2 != ord:\n",
    "        train_op = tf.group(train_op, tau)\n",
    "        \n",
    "    return train_op, xadv, noise"
   ]
  },
  {
   "cell_type": "code",
   "execution_count": 5,
   "metadata": {},
   "outputs": [
    {
     "name": "stdout",
     "output_type": "stream",
     "text": [
      "WARNING:tensorflow:From <ipython-input-5-5a963cc4dc66>:15: softmax_cross_entropy_with_logits (from tensorflow.python.ops.nn_ops) is deprecated and will be removed in a future version.\n",
      "Instructions for updating:\n",
      "\n",
      "Future major versions of TensorFlow will allow gradients to flow\n",
      "into the labels input on backprop by default.\n",
      "\n",
      "See tf.nn.softmax_cross_entropy_with_logits_v2.\n",
      "\n"
     ]
    }
   ],
   "source": [
    "# defining environment in which the model is set\n",
    "\n",
    "with tf.variable_scope('model', reuse=tf.AUTO_REUSE):\n",
    "    env.x = tf.placeholder(tf.float32, (None, 28, 28, 1),\n",
    "                           name='x')\n",
    "    env.y = tf.placeholder(tf.float32, (None, 10), name='y')\n",
    "    env.ybar, logits = deepnn(env.x)\n",
    "\n",
    "    with tf.variable_scope('acc'):\n",
    "        count = tf.equal(tf.argmax(env.y, axis=1), tf.argmax(env.ybar, axis=1))\n",
    "        env.acc = tf.reduce_mean(tf.cast(count, tf.float32), name='acc')\n",
    "\n",
    "    with tf.variable_scope('loss'):\n",
    "        xent = tf.nn.softmax_cross_entropy_with_logits(labels=env.y,\n",
    "                                                       logits=logits)\n",
    "        env.loss = tf.reduce_mean(xent, name='loss')     \n",
    "    \n",
    "    optimizer = tf.train.AdamOptimizer()\n",
    "    vs = tf.global_variables()\n",
    "    env.train_op = optimizer.minimize(env.loss, var_list = vs)\n",
    "\n",
    "    env.saver = tf.train.Saver(tf.global_variables()[:8])\n",
    "\n",
    "    env.x_fixed = tf.placeholder(tf.float32, (1, 28, 28, 1), name='x_fixed')\n",
    "    env.adv_eps = tf.placeholder(tf.float32, (), name='adv_eps')\n",
    "    env.adv_y = tf.placeholder(tf.int32, (), name='adv_y')\n",
    "    \n",
    "    optimizer = tf.train.AdamOptimizer(learning_rate=0.1)\n",
    "    env.adv_train_op, env.xadv, env.noise = cw(deepnn, env.x_fixed, y = env.adv_y, eps=env.adv_eps, optimizer=optimizer)"
   ]
  },
  {
   "cell_type": "code",
   "execution_count": 6,
   "metadata": {},
   "outputs": [],
   "source": [
    "sess = tf.InteractiveSession()"
   ]
  },
  {
   "cell_type": "code",
   "execution_count": 7,
   "metadata": {},
   "outputs": [
    {
     "name": "stdout",
     "output_type": "stream",
     "text": [
      "WARNING:tensorflow:From /usr/local/lib/python2.7/dist-packages/tensorflow/python/util/tf_should_use.py:118: initialize_all_variables (from tensorflow.python.ops.variables) is deprecated and will be removed after 2017-03-02.\n",
      "Instructions for updating:\n",
      "Use `tf.global_variables_initializer` instead.\n"
     ]
    }
   ],
   "source": [
    "sess.run(tf.initialize_all_variables())"
   ]
  },
  {
   "cell_type": "code",
   "execution_count": 8,
   "metadata": {},
   "outputs": [
    {
     "name": "stdout",
     "output_type": "stream",
     "text": [
      "INFO:tensorflow:Restoring parameters from ./mnist_model/model_chkpt-9990\n"
     ]
    }
   ],
   "source": [
    "# Load trained model\n",
    "\n",
    "env.saver.restore(sess, './mnist_model/model_chkpt-9990')"
   ]
  },
  {
   "cell_type": "code",
   "execution_count": 9,
   "metadata": {},
   "outputs": [],
   "source": [
    "def make_cw(env, X_data, y, epochs=1, eps=0.1, batch_size=1):\n",
    "    \n",
    "    X_adv = np.empty_like(X_data)\n",
    "    \n",
    "    feed_dict = {\n",
    "        env.x_fixed: X_data,\n",
    "        env.adv_eps: eps,\n",
    "        env.adv_y: y\n",
    "    }\n",
    "    \n",
    "    sess.run(env.noise.initializer)\n",
    "    \n",
    "    for epoch in range(epochs):\n",
    "        sess.run(env.adv_train_op, feed_dict=feed_dict)\n",
    "        \n",
    "    xadv = sess.run(env.xadv, feed_dict=feed_dict)\n",
    "    X_adv = xadv\n",
    "    \n",
    "    return X_adv"
   ]
  },
  {
   "cell_type": "code",
   "execution_count": 10,
   "metadata": {},
   "outputs": [],
   "source": [
    "def cw_binary_search(env, image, target, epochs=1, bound=(1e-8, 1e2),\n",
    "                     binary_epochs=10):\n",
    "    \"\"\"\n",
    "    Search for the best result on one image sample.\n",
    "    \"\"\"\n",
    "    print('\\nMaking adversarials via CW')\n",
    "\n",
    "    mindist = float('inf')\n",
    "    advimg, advprob = None, -1\n",
    "\n",
    "    lo, hi = bound\n",
    "    for epoch in range(binary_epochs):\n",
    "        eps = lo + (hi - lo) / 2\n",
    "\n",
    "        feed_dict = {\n",
    "            env.x_fixed: image,\n",
    "            env.adv_eps: eps,\n",
    "            env.adv_y: target}\n",
    "\n",
    "        # reset the noise before every iteration\n",
    "        sess.run(env.noise.initializer)\n",
    "        for epoch in range(epochs):\n",
    "            sess.run(env.adv_train_op, feed_dict=feed_dict)\n",
    "\n",
    "        xadv = sess.run(env.xadv, feed_dict=feed_dict)\n",
    "        ybar = predict(sess, env, xadv, 1)\n",
    "        label, prob = np.argmax(ybar), np.max(ybar)\n",
    "\n",
    "        if label != target:\n",
    "            lo = eps\n",
    "            if lo > bound[1]:\n",
    "                eps *= 10\n",
    "        else:\n",
    "            dist = np.linalg.norm(xadv.flatten()-image.flatten())\n",
    "            if mindist < 0 or dist < mindist:\n",
    "                mindist = dist\n",
    "                advimg = xadv\n",
    "                advprob = prob\n",
    "            hi = eps\n",
    "\n",
    "    print('Min distance: {:g}'.format(mindist))\n",
    "    return advimg, advprob"
   ]
  },
  {
   "cell_type": "code",
   "execution_count": 11,
   "metadata": {},
   "outputs": [],
   "source": [
    "def predict(sess, env, X_data, batch_size=128):\n",
    "    \"\"\"\n",
    "    Do inference by running env.ybar.\n",
    "    \"\"\"\n",
    "    print('\\nPredicting')\n",
    "    n_classes = env.ybar.get_shape().as_list()[1]\n",
    "\n",
    "    y_batch = sess.run(env.ybar, feed_dict={env.x: X_data})\n",
    "    yval = y_batch\n",
    "    print()\n",
    "    return yval"
   ]
  },
  {
   "cell_type": "markdown",
   "metadata": {},
   "source": [
    "##### The following three cells are an alternate way to load the data "
   ]
  },
  {
   "cell_type": "code",
   "execution_count": 12,
   "metadata": {},
   "outputs": [],
   "source": [
    "# filename = './cifar/tfrecords/eval.tfrecords/'\n",
    "# record_iterator = tf.python_io.tf_record_iterator(filename)\n",
    "# serialized_img_example = next(record_iterator)"
   ]
  },
  {
   "cell_type": "code",
   "execution_count": 13,
   "metadata": {},
   "outputs": [],
   "source": [
    "# serialized_img_example = next(record_iterator)"
   ]
  },
  {
   "cell_type": "code",
   "execution_count": 14,
   "metadata": {},
   "outputs": [],
   "source": [
    "# example = tf.train.Example()\n",
    "# example.ParseFromString(serialized_img_example)\n",
    "# image = example.features.feature['image'].bytes_list.value\n",
    "# label = example.features.feature['label'].int64_list.value[0]"
   ]
  },
  {
   "cell_type": "markdown",
   "metadata": {},
   "source": [
    "### Loading data from pickle file directly"
   ]
  },
  {
   "cell_type": "code",
   "execution_count": 12,
   "metadata": {},
   "outputs": [
    {
     "name": "stdout",
     "output_type": "stream",
     "text": [
      "Extracting MNIST_data/train-images-idx3-ubyte.gz\n",
      "Extracting MNIST_data/train-labels-idx1-ubyte.gz\n",
      "Extracting MNIST_data/t10k-images-idx3-ubyte.gz\n",
      "Extracting MNIST_data/t10k-labels-idx1-ubyte.gz\n"
     ]
    }
   ],
   "source": [
    "mnist = input_data.read_data_sets('MNIST_data', one_hot=True)"
   ]
  },
  {
   "cell_type": "code",
   "execution_count": 57,
   "metadata": {},
   "outputs": [],
   "source": [
    "test_x = mnist.test.images.reshape(-1, 784)[2]\n",
    "test_y = mnist.test.labels.reshape(-1, 10)[2]\n",
    "\n",
    "new_img = test_x.reshape((28, 28, 1))"
   ]
  },
  {
   "cell_type": "code",
   "execution_count": 58,
   "metadata": {},
   "outputs": [],
   "source": [
    "import matplotlib.pyplot as plt"
   ]
  },
  {
   "cell_type": "code",
   "execution_count": 59,
   "metadata": {},
   "outputs": [
    {
     "data": {
      "image/png": "[encoded data removed]",
      "text/plain": [
       "<matplotlib.figure.Figure at 0x7fa2796716d0>"
      ]
     },
     "metadata": {},
     "output_type": "display_data"
    }
   ],
   "source": [
    "# plt.imshow(new_img.reshape((28, 28)))\n",
    "# plt.savefig('./cifar_adv/cw/actual_1.png')\n",
    "\n",
    "fig, ax = plt.subplots()\n",
    "\n",
    "im = ax.imshow(new_img.reshape((28, 28)), cmap='jet')\n",
    "\n",
    "fig.colorbar(im, ax=ax)\n",
    "\n",
    "plt.savefig('./mnist_adv/1/original.png')"
   ]
  },
  {
   "cell_type": "code",
   "execution_count": 60,
   "metadata": {},
   "outputs": [
    {
     "data": {
      "text/plain": [
       "array([0., 1., 0., 0., 0., 0., 0., 0., 0., 0.])"
      ]
     },
     "execution_count": 60,
     "metadata": {},
     "output_type": "execute_result"
    }
   ],
   "source": [
    "test_y"
   ]
  },
  {
   "cell_type": "code",
   "execution_count": 61,
   "metadata": {},
   "outputs": [],
   "source": [
    "# Adding an extra dimension\n",
    "\n",
    "img = np.expand_dims(new_img, axis=0)"
   ]
  },
  {
   "cell_type": "code",
   "execution_count": 62,
   "metadata": {},
   "outputs": [
    {
     "data": {
      "text/plain": [
       "(1, 28, 28, 1)"
      ]
     },
     "execution_count": 62,
     "metadata": {},
     "output_type": "execute_result"
    }
   ],
   "source": [
    "img.shape"
   ]
  },
  {
   "cell_type": "code",
   "execution_count": 63,
   "metadata": {},
   "outputs": [
    {
     "name": "stdout",
     "output_type": "stream",
     "text": [
      "\n",
      "Predicting\n",
      "()\n"
     ]
    }
   ],
   "source": [
    "# Predicting output on original image\n",
    "\n",
    "op = predict(sess, env, img)"
   ]
  },
  {
   "cell_type": "code",
   "execution_count": 64,
   "metadata": {},
   "outputs": [
    {
     "name": "stdout",
     "output_type": "stream",
     "text": [
      "[[8.1773687e-06 9.9833614e-01 1.1982935e-04 6.2001659e-06 6.3188007e-04\n",
      "  3.4542013e-06 3.7821941e-05 8.1796857e-04 3.2607415e-05 5.9832505e-06]]\n"
     ]
    },
    {
     "data": {
      "text/plain": [
       "array([1])"
      ]
     },
     "execution_count": 64,
     "metadata": {},
     "output_type": "execute_result"
    }
   ],
   "source": [
    "print(op)\n",
    "np.argmax(op, axis=1)"
   ]
  },
  {
   "cell_type": "code",
   "execution_count": 65,
   "metadata": {},
   "outputs": [
    {
     "name": "stdout",
     "output_type": "stream",
     "text": [
      "\n",
      "Making adversarials via CW\n",
      "\n",
      "Predicting\n",
      "()\n",
      "\n",
      "Predicting\n",
      "()\n",
      "\n",
      "Predicting\n",
      "()\n",
      "\n",
      "Predicting\n",
      "()\n",
      "\n",
      "Predicting\n",
      "()\n",
      "\n",
      "Predicting\n",
      "()\n",
      "\n",
      "Predicting\n",
      "()\n",
      "\n",
      "Predicting\n",
      "()\n",
      "\n",
      "Predicting\n",
      "()\n",
      "\n",
      "Predicting\n",
      "()\n",
      "Min distance: 4.86176\n"
     ]
    }
   ],
   "source": [
    "# Generating adversarial image\n",
    "\n",
    "# X_adv = make_cw(env, img, 0, eps=1, epochs=2)\n",
    "xadv, yadv = cw_binary_search(env, img, target=0, epochs=100, binary_epochs=10)"
   ]
  },
  {
   "cell_type": "code",
   "execution_count": 66,
   "metadata": {},
   "outputs": [
    {
     "data": {
      "text/plain": [
       "0.20874657"
      ]
     },
     "execution_count": 66,
     "metadata": {},
     "output_type": "execute_result"
    }
   ],
   "source": [
    "yadv"
   ]
  },
  {
   "cell_type": "code",
   "execution_count": 67,
   "metadata": {},
   "outputs": [
    {
     "name": "stdout",
     "output_type": "stream",
     "text": [
      "\n",
      "Predicting\n",
      "()\n"
     ]
    }
   ],
   "source": [
    "# Getting output prediction on the advrsarial image\n",
    "\n",
    "adv_op = predict(sess, env, xadv)"
   ]
  },
  {
   "cell_type": "code",
   "execution_count": 68,
   "metadata": {},
   "outputs": [
    {
     "name": "stdout",
     "output_type": "stream",
     "text": [
      "[[0.20874657 0.19806553 0.19398104 0.02868816 0.0015856  0.19743533\n",
      "  0.08043781 0.00574932 0.0622862  0.02302445]]\n"
     ]
    },
    {
     "data": {
      "text/plain": [
       "0"
      ]
     },
     "execution_count": 68,
     "metadata": {},
     "output_type": "execute_result"
    }
   ],
   "source": [
    "print(adv_op)\n",
    "np.argmax(adv_op)"
   ]
  },
  {
   "cell_type": "code",
   "execution_count": 69,
   "metadata": {
    "scrolled": true
   },
   "outputs": [
    {
     "data": {
      "image/png": "[encoded data removed]",
      "text/plain": [
       "<matplotlib.figure.Figure at 0x7fa279672d90>"
      ]
     },
     "metadata": {},
     "output_type": "display_data"
    }
   ],
   "source": [
    "# plt.imshow(xadv.reshape(28, 28))\n",
    "# plt.savefig('./cifar_adv/cw/actual_1_adv_3.png')\n",
    "\n",
    "fig, ax = plt.subplots()\n",
    "\n",
    "im = ax.imshow(xadv.reshape((28, 28)), cmap='jet')\n",
    "\n",
    "fig.colorbar(im, ax=ax)\n",
    "\n",
    "plt.savefig('./mnist_adv/1/cw.png')"
   ]
  },
  {
   "cell_type": "code",
   "execution_count": 70,
   "metadata": {},
   "outputs": [],
   "source": [
    "diff_img = xadv - img"
   ]
  },
  {
   "cell_type": "code",
   "execution_count": 71,
   "metadata": {},
   "outputs": [
    {
     "data": {
      "text/plain": [
       "<matplotlib.image.AxesImage at 0x7fa2798e2e90>"
      ]
     },
     "execution_count": 71,
     "metadata": {},
     "output_type": "execute_result"
    },
    {
     "data": {
      "image/png": "[encoded data removed]",
      "text/plain": [
       "<matplotlib.figure.Figure at 0x7fa27964d710>"
      ]
     },
     "metadata": {},
     "output_type": "display_data"
    }
   ],
   "source": [
    "plt.imshow(diff_img.reshape(28, 28))\n",
    "# plt.savefig('./cifar_adv/cw/diff_1_3.png')"
   ]
  }
 ],
 "metadata": {
  "kernelspec": {
   "display_name": "Python 2",
   "language": "python",
   "name": "python2"
  },
  "language_info": {
   "codemirror_mode": {
    "name": "ipython",
    "version": 2
   },
   "file_extension": ".py",
   "mimetype": "text/x-python",
   "name": "python",
   "nbconvert_exporter": "python",
   "pygments_lexer": "ipython2",
   "version": "2.7.12"
  }
 },
 "nbformat": 4,
 "nbformat_minor": 2
}
